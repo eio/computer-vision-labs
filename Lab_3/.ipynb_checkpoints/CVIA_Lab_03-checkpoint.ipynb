{
 "cells": [
  {
   "cell_type": "markdown",
   "id": "560bd9d3",
   "metadata": {},
   "source": [
    "# 3.1 Estimate Pose Information\n",
    "\n",
    "Compute the pose of the object using the OpenCV SolvePnP"
   ]
  },
  {
   "cell_type": "markdown",
   "id": "abf10907",
   "metadata": {},
   "source": [
    "### 1. Read the `points_1.txt` and `points_2.txt` files. The text file contains the image coordinates of the interesting keypoints in the satellite."
   ]
  },
  {
   "cell_type": "code",
   "execution_count": 41,
   "id": "bca1b1f7",
   "metadata": {},
   "outputs": [],
   "source": [
    "import os\n",
    "import cv2\n",
    "import json\n",
    "import math\n",
    "import numpy as np\n",
    "import pandas as pd\n",
    "root_dir = \"data/\"\n",
    "# define some constants for data loading\n",
    "CSV = \"csv\"\n",
    "JSON = \"json\""
   ]
  },
  {
   "cell_type": "code",
   "execution_count": 42,
   "id": "8d196bd2",
   "metadata": {},
   "outputs": [],
   "source": [
    "# The data is in the format (u,v,visibility)\n",
    "# u - image coordinate along horizontal axis\n",
    "# v - along vertical axis\n",
    "# Visibility - whether the points is visible in the image or not"
   ]
  },
  {
   "cell_type": "code",
   "execution_count": 43,
   "id": "cea05172",
   "metadata": {},
   "outputs": [],
   "source": [
    "def read_local_data(filename, ftype, column_names=None):\n",
    "    \"\"\"Read the specified file and return the data\"\"\"\n",
    "    filepath = os.path.join(root_dir , filename)\n",
    "    if os.path.exists(filepath):\n",
    "        if ftype == CSV:\n",
    "            data = pd.read_csv(filepath, names=column_names)\n",
    "        elif ftype == JSON:\n",
    "            data = pd.read_json(filepath)\n",
    "        return data\n",
    "    else:\n",
    "        print(\"File not available. Please check the file path.\")"
   ]
  },
  {
   "cell_type": "code",
   "execution_count": 44,
   "id": "c2ac7781",
   "metadata": {},
   "outputs": [
    {
     "name": "stdout",
     "output_type": "stream",
     "text": [
      "        u       v  visibility\n",
      "0  422.80  282.57         0.0\n",
      "1  441.86  422.38         1.0\n",
      "2  500.08  412.92         1.0\n",
      "3  480.84  272.26         1.0\n",
      "4  292.85  238.85         1.0\n",
      "5  315.14  403.50         1.0\n",
      "6  382.88  392.21         1.0\n",
      "7  360.34  226.36         1.0 \n",
      "\n",
      "        u       v  visibility\n",
      "0  854.69  719.06         1.0\n",
      "1  863.14  659.68         0.0\n",
      "2  859.78  646.79         1.0\n",
      "3  851.08  706.93         1.0\n",
      "4  953.05  725.21         1.0\n",
      "5  959.20  665.29         1.0\n",
      "6  957.53  652.41         1.0\n",
      "7  951.23  713.11         1.0\n"
     ]
    }
   ],
   "source": [
    "# read the satellite keypoints data and print to check results\n",
    "img_keypoints_1 = read_local_data(\"task_1/points_1.txt\", CSV, [\"u\",\"v\",\"visibility\"])\n",
    "img_keypoints_2 = read_local_data(\"task_1/points_2.txt\", CSV, [\"u\",\"v\",\"visibility\"])\n",
    "print(img_keypoints_1, \"\\n\")\n",
    "print(img_keypoints_2)"
   ]
  },
  {
   "cell_type": "markdown",
   "id": "84eff529",
   "metadata": {},
   "source": [
    "### 2. Read the `camera.json` for the parameters necessary to construct the camera calibration matrix."
   ]
  },
  {
   "cell_type": "code",
   "execution_count": 45,
   "id": "97b559db",
   "metadata": {},
   "outputs": [],
   "source": [
    "### The Camera parameters is in the format below.\n",
    "### nu = number of horizontal[pixels]\n",
    "### nv = number of vertical[pixels]\n",
    "### ppx = horizontal pixel pitch[m / pixel]\n",
    "### ppy = vertical pixel pitch[m / pixel]\n",
    "### fx = focal length[m]\n",
    "### fy = focal length[m]\n",
    "### ccx = center along horizontal [pixels]\n",
    "### ccy = center along vertical[pixels]\n",
    "### dist_coefs = distortion coefficients"
   ]
  },
  {
   "cell_type": "code",
   "execution_count": 46,
   "id": "a8a1b82e",
   "metadata": {},
   "outputs": [
    {
     "name": "stdout",
     "output_type": "stream",
     "text": [
      "     Nu    Nv       ppx       ppy        fx        fy       ccx      ccy  \\\n",
      "0  1920  1080  0.000006  0.000006  0.008152  0.008157  965.7921  554.381   \n",
      "1  1920  1080  0.000006  0.000006  0.008152  0.008157  965.7921  554.381   \n",
      "2  1920  1080  0.000006  0.000006  0.008152  0.008157  965.7921  554.381   \n",
      "3  1920  1080  0.000006  0.000006  0.008152  0.008157  965.7921  554.381   \n",
      "4  1920  1080  0.000006  0.000006  0.008152  0.008157  965.7921  554.381   \n",
      "\n",
      "   distCoeffs  \n",
      "0           0  \n",
      "1           0  \n",
      "2           0  \n",
      "3           0  \n",
      "4           0  \n"
     ]
    }
   ],
   "source": [
    "# read the local camera data and print to check results\n",
    "camera = read_local_data(\"task_1/camera.json\", JSON)\n",
    "print(camera)"
   ]
  },
  {
   "cell_type": "code",
   "execution_count": 47,
   "id": "c7fb2691",
   "metadata": {},
   "outputs": [],
   "source": [
    "class CameraClass:\n",
    "    \"\"\"Utility class for accessing camera parameters.\"\"\"\n",
    "    def __init__(self):\n",
    "        # read the local camera data file\n",
    "        camdata = read_local_data(\"task_1/camera.json\", JSON)\n",
    "        # read data from pandas for the corresponding index\n",
    "        img_width = camdata.loc[0,\"Nu\"]\n",
    "        img_height = camdata.loc[0,\"Nv\"]\n",
    "        # center points\n",
    "        ccx = camdata.loc[0,\"ccx\"]\n",
    "        ccy = camdata.loc[0,\"ccy\"]\n",
    "        # pixel pitch\n",
    "        ppx = camdata.loc[0,\"ppx\"]\n",
    "        ppy = camdata.loc[0,\"ppy\"]\n",
    "        # focal length (in meters)\n",
    "        fx_m = camdata.loc[0,\"fx\"]\n",
    "        fy_m = camdata.loc[0,\"fy\"]\n",
    "        #################################\n",
    "        #### F(mm) = F(pixels) * SensorWidth(mm) / ImageWidth (pixel)\n",
    "        #### PixelPitch * HorizontalPixelCount = CameraSensorWidth\n",
    "        # sensor_width = img_width * ppx\n",
    "        # sensor_height = img_height * ppy\n",
    "        #################################\n",
    "        # calculate the focal length in pixels\n",
    "        fx_pix = fx_m / ppx\n",
    "        fy_pix = fy_m / ppy\n",
    "        # build the camera's intrinsic matrix\n",
    "        k = [\n",
    "            [fx_pix, 0, ccx],\n",
    "            [0, fy_pix, ccy],\n",
    "            [0, 0, 1],\n",
    "        ]\n",
    "        # store matrix as self.K for easy access\n",
    "        self.K = np.array(k)"
   ]
  },
  {
   "cell_type": "code",
   "execution_count": 48,
   "id": "0db14812",
   "metadata": {},
   "outputs": [
    {
     "name": "stdout",
     "output_type": "stream",
     "text": [
      "[[1.39116894e+03 0.00000000e+00 9.65792100e+02]\n",
      " [0.00000000e+00 1.39195563e+03 5.54381000e+02]\n",
      " [0.00000000e+00 0.00000000e+00 1.00000000e+00]]\n"
     ]
    }
   ],
   "source": [
    "# initialize the Camera class and access the intrinsic matrix (K)\n",
    "Camera = CameraClass()\n",
    "print(Camera.K)"
   ]
  },
  {
   "cell_type": "markdown",
   "id": "11ec475b",
   "metadata": {},
   "source": [
    "### 3. OpenCV `SolvePnP` command will be helpful to find an object pose from 3D-2D point correspondences."
   ]
  },
  {
   "cell_type": "code",
   "execution_count": 49,
   "id": "33e833cd",
   "metadata": {},
   "outputs": [],
   "source": [
    "### objectPoints - Array of object points in the object coordinate space, # Nx3 where N is the number of points.\n",
    "### imagePoints - Array of corresponding image points, # Nx2 where N is the number of points.\n",
    "### camera_matrix - intrisic matrix of the camera\n",
    "\n",
    "### success , rotation_vector , translation_vector = cv2.solvePnP(\n",
    "###     objectPoints,\n",
    "###     imagePoints,\n",
    "###     camera_matrix,\n",
    "###     dist_coefs,\n",
    "###     flags\n",
    "### )"
   ]
  },
  {
   "cell_type": "markdown",
   "id": "89a77ecd",
   "metadata": {},
   "source": [
    "### 4. Read the `points3d.txt` files for the position of the keypoints (object points in 3D) in the satellite’s own reference frame. The keypoint location are in the format (x,y,z)."
   ]
  },
  {
   "cell_type": "code",
   "execution_count": 50,
   "id": "ca1bf7d2",
   "metadata": {},
   "outputs": [
    {
     "name": "stdout",
     "output_type": "stream",
     "text": [
      "        x     y     z\n",
      "0  0.1136 -0.17 -0.05\n",
      "1 -0.1136 -0.17 -0.05\n",
      "2 -0.1136 -0.17  0.05\n",
      "3  0.1136 -0.17  0.05\n",
      "4  0.1136  0.17 -0.05\n",
      "5 -0.1136  0.17 -0.05\n",
      "6 -0.1136  0.17  0.05\n",
      "7  0.1136  0.17  0.05\n"
     ]
    }
   ],
   "source": [
    "# read the satellite keypoints data and print to check results\n",
    "sat_keypoints_3d = read_local_data(\"task_1/points3d.txt\", CSV, [\"x\",\"y\",\"z\"])\n",
    "print(sat_keypoints_3d)"
   ]
  },
  {
   "cell_type": "markdown",
   "id": "94e6361c",
   "metadata": {},
   "source": [
    "### 5. Find the pose of the target in the camera reference frame using `SolvePnP`. The pose information should be the format position (x,y,z) and quaternion (qx, qy, qz, qw)."
   ]
  },
  {
   "cell_type": "code",
   "execution_count": 51,
   "id": "92139346",
   "metadata": {},
   "outputs": [],
   "source": [
    "def calculate_pose(object_points, image_points, camera_matrix, fversion, original_pose=None):\n",
    "    \"\"\"\n",
    "    Find the pose of the satellite in the camera reference frame\n",
    "    or refine an already-calculated pose, depending on `fversion` value\n",
    "    \"\"\"\n",
    "    dist_coefs = None\n",
    "    flags = None\n",
    "    # convert to Numpy arrays as the solvePnP functions expect\n",
    "    object_points = np.array(object_points)\n",
    "    image_points = np.array(image_points)\n",
    "    # initialize the output data dictionary\n",
    "    pose = {\n",
    "        \"rotation\": [],\n",
    "        \"translation\": []\n",
    "    }\n",
    "    ########################################################\n",
    "    if fversion == \"solvePnP\":\n",
    "        success , rotation_vector , translation_vector = cv2.solvePnP(\n",
    "            object_points,  # Array of object points in the object coordinate space (Nx3)\n",
    "            image_points,   # Array of corresponding image points (Nx2)\n",
    "            camera_matrix, # Intrisic matrix of the camera\n",
    "            dist_coefs,\n",
    "            flags\n",
    "        )\n",
    "    ########################################################\n",
    "    elif fversion == \"solvePnPRansac\":\n",
    "        success , rotation_vector , translation_vector, inliers = cv2.solvePnPRansac(\n",
    "            object_points,\n",
    "            image_points,\n",
    "            camera_matrix,\n",
    "            dist_coefs,\n",
    "            flags\n",
    "        )\n",
    "        # Ransac returns inliers to include them in the output\n",
    "        pose[\"inliers\"] = inliers\n",
    "    ########################################################\n",
    "    elif fversion == \"solvePnPRefineLM\":\n",
    "        if original_pose is None:\n",
    "            print(\"Must include original pose in PnPRefine methods.\")\n",
    "        else:\n",
    "            rotation_vector , translation_vector = cv2.solvePnPRefineLM(\n",
    "                object_points,\n",
    "                image_points,\n",
    "                camera_matrix,\n",
    "                dist_coefs,\n",
    "                original_pose[\"rotation\"],\n",
    "                original_pose[\"translation\"]\n",
    "            )\n",
    "    ########################################################\n",
    "    elif fversion == \"solvePnPRefineVVS\":\n",
    "        if original_pose is None:\n",
    "            print(\"Must include original pose in PnPRefine methods.\")\n",
    "        else:\n",
    "            rotation_vector , translation_vector = cv2.solvePnPRefineVVS(\n",
    "                object_points,\n",
    "                image_points,\n",
    "                camera_matrix,\n",
    "                dist_coefs,\n",
    "                original_pose[\"rotation\"],\n",
    "                original_pose[\"translation\"]\n",
    "            )\n",
    "    ########################################################\n",
    "    ########################################################\n",
    "    # make sure that real vector values have been returned\n",
    "    if len(rotation_vector) > 0 and len(translation_vector) > 0:\n",
    "        # attach the result vectors and return the pose\n",
    "        pose[\"rotation\"] = rotation_vector\n",
    "        pose[\"translation\"] = translation_vector\n",
    "        return pose\n",
    "    else:\n",
    "        print(\"No valid rotation or translation vector returned.\")"
   ]
  },
  {
   "cell_type": "code",
   "execution_count": 52,
   "id": "4e53630d",
   "metadata": {},
   "outputs": [],
   "source": [
    "def find_poses(image_points1, image_points2, object_points, camera_matrix, fversion):\n",
    "    \"\"\"Calculate the poses for both sets of image points\"\"\"\n",
    "    # calculate the poses\n",
    "    pose1 = calculate_pose(object_points, image_points1, camera_matrix, fversion)\n",
    "    pose2 = calculate_pose(object_points, image_points2, camera_matrix, fversion)\n",
    "    print(\"-------------------------------------------\")\n",
    "    print(\"Using function: `{}` ...\\n\".format(fversion))\n",
    "    print(\"Pose 1:\\nRotation:\\n{}\\nTranslation:\\n{}\\n\\n\".format(pose1[\"rotation\"], pose1[\"translation\"]))\n",
    "    print(\"Pose 2:\\nRotation:\\n{}\\nTranslation:\\n{}\\n\\n\".format(pose2[\"rotation\"], pose2[\"translation\"]))\n",
    "    return pose1, pose2"
   ]
  },
  {
   "cell_type": "code",
   "execution_count": 53,
   "id": "2620c045",
   "metadata": {},
   "outputs": [],
   "source": [
    "# drop the visibility column for `solvePnP`\n",
    "# to ensure the proper input shape\n",
    "ikp1 = img_keypoints_1.drop(columns=\"visibility\")\n",
    "ikp2 = img_keypoints_2.drop(columns=\"visibility\")"
   ]
  },
  {
   "cell_type": "code",
   "execution_count": 54,
   "id": "0e9adcf4",
   "metadata": {},
   "outputs": [
    {
     "name": "stdout",
     "output_type": "stream",
     "text": [
      "-------------------------------------------\n",
      "Using function: `solvePnP` ...\n",
      "\n",
      "Pose 1:\n",
      "Rotation:\n",
      "[[-1.23662538]\n",
      " [ 1.41654585]\n",
      " [-1.23482798]]\n",
      "Translation:\n",
      "[[-0.83270889]\n",
      " [-0.32868804]\n",
      " [ 2.0640081 ]]\n",
      "\n",
      "\n",
      "Pose 2:\n",
      "Rotation:\n",
      "[[ 1.87273012]\n",
      " [ 2.02069648]\n",
      " [-0.60781099]]\n",
      "Translation:\n",
      "[[-0.20495711]\n",
      " [ 0.45086281]\n",
      " [ 4.77735808]]\n",
      "\n",
      "\n"
     ]
    }
   ],
   "source": [
    "# calculate the poses using the standard method\n",
    "(pose1, pose2) = find_poses(\n",
    "    ikp1, ikp2, sat_keypoints_3d, Camera.K, \"solvePnP\"\n",
    ")\n",
    "# # alternatively, calculate the poses using the Ransac method\n",
    "# (pose1_ransac, pose2_ransac) = find_poses(\n",
    "#     ikp1, ikp2, sat_keypoints_3d, Camera.K, \"solvePnPRansac\"\n",
    "# )"
   ]
  },
  {
   "cell_type": "markdown",
   "id": "0c92c376",
   "metadata": {},
   "source": [
    "### 6. Investigate different (min. two) PnP refinement options and report whether there is any performance improvement."
   ]
  },
  {
   "cell_type": "code",
   "execution_count": 55,
   "id": "4f876611",
   "metadata": {},
   "outputs": [
    {
     "name": "stdout",
     "output_type": "stream",
     "text": [
      "-------------------------------------------\n",
      "Using refinement function: `solvePnPRefineLM` ...\n",
      "\n",
      "Pose 1:\n",
      "Rotation:\n",
      "[[-1.23662538]\n",
      " [ 1.41654585]\n",
      " [-1.23482798]]\n",
      "Translation:\n",
      "[[-0.83270889]\n",
      " [-0.32868804]\n",
      " [ 2.0640081 ]]\n",
      "\n",
      "\n",
      "Pose 2:\n",
      "Rotation:\n",
      "[[ 1.87273012]\n",
      " [ 2.02069648]\n",
      " [-0.60781099]]\n",
      "Translation:\n",
      "[[-0.20495711]\n",
      " [ 0.45086281]\n",
      " [ 4.77735808]]\n",
      "\n",
      "\n",
      "-------------------------------------------\n",
      "Using refinement function: `solvePnPRefineVVS` ...\n",
      "\n",
      "Pose 1:\n",
      "Rotation:\n",
      "[[-1.23662561]\n",
      " [ 1.41654518]\n",
      " [-1.23482754]]\n",
      "Translation:\n",
      "[[-0.83270871]\n",
      " [-0.32868797]\n",
      " [ 2.06400766]]\n",
      "\n",
      "\n",
      "Pose 2:\n",
      "Rotation:\n",
      "[[ 1.87273014]\n",
      " [ 2.02069648]\n",
      " [-0.60781081]]\n",
      "Translation:\n",
      "[[-0.20495714]\n",
      " [ 0.45086288]\n",
      " [ 4.77735873]]\n",
      "\n",
      "\n"
     ]
    }
   ],
   "source": [
    "def refine_poses(image_points1, image_points2, object_points, camera_matrix, fversion, original_pose1, original_pose2):\n",
    "    \"\"\"Refine the poses using the specified method\"\"\"\n",
    "    # calculate the poses\n",
    "    pose1 = calculate_pose(object_points, image_points1, camera_matrix, fversion, original_pose1)\n",
    "    pose2 = calculate_pose(object_points, image_points2, camera_matrix, fversion, original_pose2)\n",
    "    print(\"-------------------------------------------\")\n",
    "    print(\"Using refinement function: `{}` ...\\n\".format(fversion))\n",
    "    print(\"Pose 1:\\nRotation:\\n{}\\nTranslation:\\n{}\\n\\n\".format(pose1[\"rotation\"], pose1[\"translation\"]))\n",
    "    print(\"Pose 2:\\nRotation:\\n{}\\nTranslation:\\n{}\\n\\n\".format(pose2[\"rotation\"], pose2[\"translation\"]))\n",
    "    return pose1, pose2\n",
    "\n",
    "# Try first refinement method\n",
    "(pose1_refinedLM, pose2_refinedLM) = refine_poses(\n",
    "    ikp1, ikp2, sat_keypoints_3d, Camera.K, \"solvePnPRefineLM\", pose1, pose2\n",
    ")\n",
    "# Try second refinement method\n",
    "(pose1_refinedVVS, pose2_refinedVVS) = refine_poses(\n",
    "    ikp1, ikp2, sat_keypoints_3d, Camera.K, \"solvePnPRefineVVS\", pose1, pose2\n",
    ")"
   ]
  },
  {
   "cell_type": "code",
   "execution_count": 56,
   "id": "527f94ab",
   "metadata": {},
   "outputs": [],
   "source": [
    "## report whether there is any performance improvement from the different refinement methods\n",
    "## using the methodology (http://boris-belousov.net/2016/12/01/quat-dist/):\n",
    "### 1. convert to quaternions\n",
    "### 2. transpose first result and multiply by second result\n",
    "### 3. determine the trace of output\n",
    "### 4. take (whole result minus 1) and divide by 2\n",
    "### 5. take the arc cosine of that result\n",
    "\n",
    "def rvec_to_quat(rvec):\n",
    "    \"\"\"Convert a rotation vector to a quaternion\"\"\"\n",
    "    q, jacobian = cv2.Rodrigues(rvec)\n",
    "    return q\n",
    "\n",
    "def calculate_performance_improvement(original_pose, refined_pose, pose_name, fversion):\n",
    "    \"\"\"\n",
    "    Check whether any performance improvement can be noted\n",
    "    after using one of the refinement methods\n",
    "    \"\"\"\n",
    "    # convert to quaternions\n",
    "    original_quat = rvec_to_quat(original_pose[\"rotation\"])\n",
    "    refined_quat = rvec_to_quat(refined_pose[\"rotation\"])\n",
    "    # transpose the first result\n",
    "    oq_T = original_quat.T\n",
    "    # multiply by second result to get the distance between rotations\n",
    "    R = np.matmul(refined_quat, original_quat.T)\n",
    "    # use trace to return (1 + 2 * cos(theta))\n",
    "    trR = np.trace(R)\n",
    "    # solve for theta to get the angle of the difference rotation\n",
    "    theta = math.acos((trR - 1) / 2)\n",
    "    print(\"-------------------------------------------\")\n",
    "    print(\n",
    "        \"Using `{}` to refine {}:\".format(fversion, pose_name),\n",
    "        \"the distance between rotations (theta) was: {}\\n\".format(theta)\n",
    "    )"
   ]
  },
  {
   "cell_type": "markdown",
   "id": "ad0d65a4",
   "metadata": {},
   "source": [
    "We check how well the refinement methods worked by finding the distance between rotations.\n",
    "\n",
    "This distance is an angle (theta) which we can use as our \"improvement score\".\n",
    "\n",
    "The closer it is to zero, the better.\n",
    "\n",
    "This means our refinement method slightly improved the original pose calculation."
   ]
  },
  {
   "cell_type": "code",
   "execution_count": 57,
   "id": "c8e131e0",
   "metadata": {},
   "outputs": [
    {
     "name": "stdout",
     "output_type": "stream",
     "text": [
      "-------------------------------------------\n",
      "Using `solvePnPRefineLM` to refine Pose1: the distance between rotations (theta) was: 2.9802322387695312e-08\n",
      "\n",
      "-------------------------------------------\n",
      "Using `solvePnPRefineVVS` to refine Pose1: the distance between rotations (theta) was: 2.9802322387695312e-08\n",
      "\n",
      "-------------------------------------------\n",
      "Using `solvePnPRefineLM` to refine Pose2: the distance between rotations (theta) was: 2.1073424255447017e-08\n",
      "\n",
      "-------------------------------------------\n",
      "Using `solvePnPRefineVVS` to refine Pose2: the distance between rotations (theta) was: 2.1073424255447017e-08\n",
      "\n"
     ]
    }
   ],
   "source": [
    "# check refinements of the Pose 1 determined with SolvePnP\n",
    "calculate_performance_improvement(pose1, pose1_refinedLM, \"Pose1\", \"solvePnPRefineLM\")\n",
    "calculate_performance_improvement(pose1, pose1_refinedVVS,  \"Pose1\", \"solvePnPRefineVVS\")\n",
    "# check refinements of the Pose 2 determined with SolvePnP\n",
    "calculate_performance_improvement(pose2, pose2_refinedLM, \"Pose2\", \"solvePnPRefineLM\")\n",
    "calculate_performance_improvement(pose2, pose2_refinedVVS, \"Pose2\", \"solvePnPRefineVVS\")"
   ]
  },
  {
   "cell_type": "markdown",
   "id": "893ea3d4",
   "metadata": {},
   "source": [
    "# 3.2 Estimating Fundamental Matrix and Essential Matrix\n",
    "\n",
    "In a stereo image pair, the fundamental matrix encodes the rigidity constraint of the scene. In this exercise, you are provided with a set of image pairs. Estimate the Fundamental matrix and the Essential matrix."
   ]
  },
  {
   "cell_type": "markdown",
   "id": "0692ebda",
   "metadata": {},
   "source": [
    "### 1. In the folder, there are two images that represent the stereo pair. Read the images using OpenCV."
   ]
  },
  {
   "cell_type": "code",
   "execution_count": 58,
   "id": "8c13df30",
   "metadata": {},
   "outputs": [],
   "source": [
    "# import matplotlib for visualization\n",
    "from matplotlib import pyplot as plt"
   ]
  },
  {
   "cell_type": "code",
   "execution_count": 59,
   "id": "71bfe136",
   "metadata": {},
   "outputs": [
    {
     "data": {
      "text/plain": [
       "<matplotlib.image.AxesImage at 0x7fede87e5820>"
      ]
     },
     "execution_count": 59,
     "metadata": {},
     "output_type": "execute_result"
    },
    {
     "data": {
      "image/png": "[encoded data removed]",
      "text/plain": [
       "<Figure size 640x480 with 2 Axes>"
      ]
     },
     "metadata": {},
     "output_type": "display_data"
    }
   ],
   "source": [
    "img_path1 = os.path.join(root_dir , \"task_2/img020_GT103.png\")\n",
    "imgA = cv2.imread(img_path1)\n",
    "img_path2 = os.path.join(root_dir , \"task_2/img030_GT103.png\")\n",
    "imgB = cv2.imread(img_path2)\n",
    "f, ax = plt.subplots(2)\n",
    "ax[0].imshow(imgA)\n",
    "ax[1].imshow(imgB)"
   ]
  },
  {
   "cell_type": "markdown",
   "id": "80d03fab",
   "metadata": {},
   "source": [
    "### 2. Calculate sift descriptors"
   ]
  },
  {
   "cell_type": "code",
   "execution_count": 60,
   "id": "f866a3a2",
   "metadata": {},
   "outputs": [],
   "source": [
    "def calculate_sift_descriptors(image):\n",
    "    \"\"\"Calculate the SIFT descriptors\"\"\"\n",
    "    gray = cv2.cvtColor(image, cv2.COLOR_BGR2GRAY)\n",
    "    sift = cv2.SIFT_create()\n",
    "    kp, des = sift.detectAndCompute(gray, None)\n",
    "    return {\n",
    "        \"keypoints\": kp,\n",
    "        \"descriptors\": des\n",
    "    }"
   ]
  },
  {
   "cell_type": "code",
   "execution_count": 61,
   "id": "9bd224bc",
   "metadata": {},
   "outputs": [],
   "source": [
    "# calculate and store the SIFT descriptors\n",
    "sift_descripA = calculate_sift_descriptors(imgA)\n",
    "sift_descripB = calculate_sift_descriptors(imgB)"
   ]
  },
  {
   "cell_type": "markdown",
   "id": "8fe6512f",
   "metadata": {},
   "source": [
    "### 3. Perform feature matching using BF matcher. Please feel free to use any other feature matcher as well."
   ]
  },
  {
   "cell_type": "code",
   "execution_count": 62,
   "id": "8d17d681",
   "metadata": {},
   "outputs": [],
   "source": [
    "# Feature matching with BF matcher\n",
    "des1 = sift_descripA[\"descriptors\"]\n",
    "des2 = sift_descripB[\"descriptors\"]\n",
    "bf = cv2.BFMatcher(cv2.NORM_L1 , crossCheck=True)\n",
    "matches_bf = bf.match(des1, des2)\n",
    "matches_bf = sorted(matches_bf, key = lambda x:x.distance)\n",
    "\n",
    "# Feature matching with Flann matcher\n",
    "FLANN_INDEX_KDTREE = 1\n",
    "flann_params = dict(algorithm = FLANN_INDEX_KDTREE, trees = 5)\n",
    "matcher = cv2.FlannBasedMatcher(flann_params , {})\n",
    "matches_flann = matcher.knnMatch(des1, des2, 2)\n",
    "\n",
    "# Choose one of the above methods for matches\n",
    "matches = matches_flann"
   ]
  },
  {
   "cell_type": "markdown",
   "id": "e2b6e81d",
   "metadata": {},
   "source": [
    "### 4. Extract keypoints from matches"
   ]
  },
  {
   "cell_type": "code",
   "execution_count": 63,
   "id": "3b3ed932",
   "metadata": {},
   "outputs": [
    {
     "name": "stdout",
     "output_type": "stream",
     "text": [
      "275\n",
      "275\n"
     ]
    }
   ],
   "source": [
    "# unpack keypoints returned by SIFT\n",
    "kpA = sift_descripA[\"keypoints\"]\n",
    "kpB = sift_descripB[\"keypoints\"]\n",
    "\n",
    "# iterate through matches and extract keypoints\n",
    "keypointsA = []\n",
    "keypointsB = []\n",
    "# ratio test as per Lowe's paper\n",
    "for i, (m1,m2) in enumerate(matches):\n",
    "    if m1.distance < 0.7 * m2.distance:\n",
    "        # use query index for first reference point\n",
    "        pt1 = kpA[m1.queryIdx].pt\n",
    "        # use train index for second point\n",
    "        pt2 = kpB[m1.trainIdx].pt\n",
    "        keypointsA.append(pt1)\n",
    "        keypointsB.append(pt2)\n",
    "\n",
    "# check the returned arrays\n",
    "print(len(keypointsA))\n",
    "print(len(keypointsB))"
   ]
  },
  {
   "cell_type": "markdown",
   "id": "baaec312",
   "metadata": {},
   "source": [
    "### 5. Convert keypoints coordinates where the origin is located at the image center"
   ]
  },
  {
   "cell_type": "code",
   "execution_count": 64,
   "id": "16c013ca",
   "metadata": {},
   "outputs": [],
   "source": [
    "def convert_keypoints(kp, image):\n",
    "    \"\"\"Convert keypoints coordinates where the origin is located at the image center\"\"\"\n",
    "    # Passes to coordinates centered on center x,y of image\n",
    "    Kp = -1 * (kp - (np.array(image.shape[0:2]) * 0.5))\n",
    "    return Kp"
   ]
  },
  {
   "cell_type": "code",
   "execution_count": 65,
   "id": "ebb5a988",
   "metadata": {},
   "outputs": [
    {
     "name": "stdout",
     "output_type": "stream",
     "text": [
      "275\n",
      "275\n"
     ]
    }
   ],
   "source": [
    "# Convert the keypoints\n",
    "kpA_converted = convert_keypoints(keypointsA, imgA)\n",
    "kpB_converted = convert_keypoints(keypointsB, imgB)\n",
    "# Check the returned arrays\n",
    "print(len(kpA_converted))\n",
    "print(len(kpB_converted))"
   ]
  },
  {
   "cell_type": "markdown",
   "id": "19fcec82",
   "metadata": {},
   "source": [
    "### 6. Estimate Fundamental Matrix using the keypoints"
   ]
  },
  {
   "cell_type": "code",
   "execution_count": 66,
   "id": "f1aa2b99",
   "metadata": {},
   "outputs": [
    {
     "name": "stdout",
     "output_type": "stream",
     "text": [
      "202\n",
      "202\n",
      "\n",
      "Fundamental Matrix:\n",
      " [[ 3.46698039e-07  5.52498495e-05 -3.60389755e-02]\n",
      " [-5.31926650e-05  1.60977326e-06 -6.00553102e-02]\n",
      " [ 3.66834737e-02  6.01961218e-02  1.00000000e+00]]\n"
     ]
    }
   ],
   "source": [
    "# Using the methodology from:\n",
    "# https://docs.opencv.org/4.x/da/de9/tutorial_py_epipolar_geometry.html\n",
    "\n",
    "# Cast the converted keypoints to int32 values\n",
    "pts1 = np.int32(kpA_converted)\n",
    "pts2 = np.int32(kpB_converted)\n",
    "# `FM_LMEDS` = least-median algorithm. 7-point algorithm is used.\n",
    "F, mask = cv2.findFundamentalMat(pts1, pts2, cv2.FM_LMEDS)\n",
    "# Select only inlier points\n",
    "pts1 = pts1[mask.ravel()==1]\n",
    "pts2 = pts2[mask.ravel()==1]\n",
    "# Check the returned arrays\n",
    "print(len(pts1))\n",
    "print(len(pts2))\n",
    "# Output the Fundamental Matrix\n",
    "print(\"\\nFundamental Matrix:\\n\", F)\n",
    "\n",
    "# The Fundamental Matrix could also be found with a manual implementation\n",
    "# of the method in Chapter 11 of Hartley and Zisserman's Multiview Geometry Book\n",
    "# (the same method described around Lecture 6, Slide 20)"
   ]
  },
  {
   "cell_type": "markdown",
   "id": "5778d53e",
   "metadata": {},
   "source": [
    "### 7. Estimate Essential matrix"
   ]
  },
  {
   "cell_type": "code",
   "execution_count": 68,
   "id": "93de43bf",
   "metadata": {},
   "outputs": [
    {
     "name": "stdout",
     "output_type": "stream",
     "text": [
      "\n",
      "Essential Matrix:\n",
      " [[   0.67098241  106.98831937   -7.05972383]\n",
      " [-103.00469369    3.11900085 -153.86112147]\n",
      " [  10.47454097  159.30711961    3.62009484]]\n"
     ]
    }
   ],
   "source": [
    "# We assume the same camera has been used and K = K'\n",
    "# Then, we can use the following equation: E = (K_transpose)(F)(K)\n",
    "# As per https://en.wikipedia.org/wiki/Essential_matrix\n",
    "# https://stackoverflow.com/questions/23943602/essential-matrix-from-fundamental-matrix-in-opencv\n",
    "# Get the transpose of the camera intrinsic matrix\n",
    "K_transpose = Camera.K.T\n",
    "# Multiply the terms to find E\n",
    "FK = np.matmul(F, Camera.K)\n",
    "E = np.matmul(K_transpose, FK)\n",
    "# Output the Essential Matrix\n",
    "print(\"\\nEssential Matrix:\\n\", E)\n",
    "\n",
    "\n",
    "# # OpenCV also provides a built-in function with options for calculating the essential matrix:\n",
    "# # https://docs.opencv.org/3.4/d9/d0c/group__calib3d.html#ga0b166d41926a7793ab1c351dbaa9ffd4\n",
    "#\n",
    "# Essential_RANSAC, mask = cv2.findEssentialMat(pts1, pts2, Camera.K, cv2.RANSAC)\n",
    "# print(\"\\nEssential Matrix (RANSAC):\\n\", Essential_RANSAC)\n",
    "# Essential_LMEDS, mask = cv2.findEssentialMat(pts1, pts2, Camera.K, cv2.LMEDS)\n",
    "# print(\"\\nEssential Matrix (LMEDS):\\n\", Essential_LMEDS)"
   ]
  }
 ],
 "metadata": {
  "kernelspec": {
   "display_name": "Python 3 (ipykernel)",
   "language": "python",
   "name": "python3"
  },
  "language_info": {
   "codemirror_mode": {
    "name": "ipython",
    "version": 3
   },
   "file_extension": ".py",
   "mimetype": "text/x-python",
   "name": "python",
   "nbconvert_exporter": "python",
   "pygments_lexer": "ipython3",
   "version": "3.9.13"
  }
 },
 "nbformat": 4,
 "nbformat_minor": 5
}
